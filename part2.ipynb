{
 "cells": [
  {
   "cell_type": "markdown",
   "metadata": {},
   "source": [
    "# Data Science Salaries - Part 2: Error Analysis and Improvements"
   ]
  },
  {
   "cell_type": "markdown",
   "metadata": {},
   "source": [
    "## Error Analysis Conclusions & Work Plan\n",
    "\n",
    "Based on the error analysis from Part 1, we identified several key issues:\n",
    "\n",
    "- **Salary Range Bias**:\n",
    "   - Model significantly underestimates high-salary positions (>250k USD)\n",
    "   - Negative skew in error distribution\n",
    "\n",
    "- **Feature Importance Issues**:\n",
    "   - Employee residence dominates with ~0.40 importance score\n",
    "   - Work year and remote ratio show very low importance (<0.05)\n",
    "   - Potential sparsity issues with job titles\n",
    "\n",
    "- **Experience Level Patterns**:\n",
    "   - Largest error variance in Executive (EX) level\n",
    "   - Significant outliers in Senior (SE) level"
   ]
  },
  {
   "cell_type": "markdown",
   "metadata": {},
   "source": [
    "Loading the data & model from Part 1"
   ]
  },
  {
   "cell_type": "code",
   "execution_count": null,
   "metadata": {},
   "outputs": [],
   "source": [
    "# Import required libraries\n",
    "import pandas as pd\n",
    "import numpy as np\n",
    "import matplotlib.pyplot as plt\n",
    "import seaborn as sns\n",
    "from sklearn.preprocessing import StandardScaler, RobustScaler, QuantileTransformer, LabelEncoder\n",
    "from sklearn.feature_extraction.text import TfidfVectorizer\n",
    "from sklearn.model_selection import train_test_split\n",
    "from sklearn.cluster import KMeans\n",
    "from category_encoders import TargetEncoder\n",
    "from imblearn.over_sampling import SMOTE\n",
    "import xgboost as xgb\n",
    "\n",
    "# Set style for better visualizations\n",
    "sns.set_style(\"whitegrid\")\n",
    "sns.set_palette(\"husl\")\n",
    "\n",
    "# Load the original data and model\n",
    "path = \"data\\\\ds_salaries.csv\"\n",
    "df = pd.read_csv(path)\n",
    "\n",
    "# Import the prepare_data function from part1\n",
    "from part1 import prepare_data, build_model\n",
    "processed_data = prepare_data(df)\n",
    "model, X_test, y_test, y_pred, X_train, feature_cols = build_model(processed_data)"
   ]
  },
  {
   "cell_type": "markdown",
   "metadata": {},
   "source": [
    "### Root Cause Analysis\n",
    "\n",
    "Let's analyze potential causes for the observed issues:"
   ]
  },
  {
   "cell_type": "markdown",
   "metadata": {},
   "source": [
    "#### Data Distribution Problems (Data Imbalance)"
   ]
  },
  {
   "cell_type": "code",
   "execution_count": null,
   "metadata": {},
   "outputs": [],
   "source": [
    "# # Analyze salary distribution\n",
    "# plt.figure(figsize=(10, 6))\n",
    "# sns.histplot(data=processed_data, x='salary_in_usd', bins=50)\n",
    "# plt.title('Salary Distribution')\n",
    "# plt.xlabel('Salary (thousands USD)')\n",
    "# plt.ylabel('Count')\n",
    "# plt.show()\n",
    "\n",
    "# Print summary statistics\n",
    "print(\"Salary Distribution Statistics:\")\n",
    "print(processed_data['salary_in_usd'].describe())\n",
    "\n",
    "# Calculate skewness\n",
    "print(f\"\\nSkewness: {processed_data['salary_in_usd'].skew():.2f}\")\n",
    "\n",
    "# Analyze salary distribution\n",
    "plt.figure(figsize=(15, 5))\n",
    "  \n",
    "# Original distribution\n",
    "plt.subplot(1, 3, 1)\n",
    "sns.histplot(processed_data['salary_in_usd'], bins=30)\n",
    "plt.title('Original Salary Distribution')\n",
    "    \n",
    "# Log-transformed distribution\n",
    "plt.subplot(1, 3, 2)\n",
    "sns.histplot(np.log1p(processed_data['salary_in_usd']), bins=30)\n",
    "plt.title('Log-Transformed Salary Distribution')\n",
    "    \n",
    "# QQ plot for log-normality\n",
    "plt.subplot(1, 3, 3)\n",
    "stats.probplot(np.log1p(processed_data['salary_in_usd']), dist=\"norm\", plot=plt)\n",
    "plt.title('Log-Normal Q-Q Plot')\n",
    "    \n",
    "plt.tight_layout()\n",
    "plt.show()"
   ]
  },
  {
   "cell_type": "markdown",
   "metadata": {},
   "source": [
    "We observe:\n",
    "   - Right-skewed salary distribution\n",
    "   - Underrepresentation of high-salary positions\n",
    "   - Possible outliers affecting model training\n",
    "\n",
    "**Some Potential Solutions:**\n",
    "   - Custom sampling strategy based on salary ranges\n",
    "   - Handle outliers\n",
    "   - Consider log transformation for salary values\n"
   ]
  },
  {
   "cell_type": "markdown",
   "metadata": {},
   "source": [
    "#### Feature Engineering Issues"
   ]
  },
  {
   "cell_type": "code",
   "execution_count": 1,
   "metadata": {},
   "outputs": [],
   "source": [
    "# Analyze feature cardinality\n",
    "categorical_cols = ['job_title', 'employee_residence', 'company_location']\n",
    "\n",
    "print(\"Feature Cardinality Analysis:\")\n",
    "for col in categorical_cols:\n",
    "    unique_count = processed_data[col].nunique()\n",
    "    top_5_freq = processed_data[col].value_counts().head()\n",
    "    print(f\"\\n{col}:\")\n",
    "    print(f\"Unique values: {unique_count}\")\n",
    "    print(\"Top 5 most frequent values:\")\n",
    "    print(top_5_freq)"
   ]
  },
  {
   "cell_type": "markdown",
   "metadata": {},
   "source": [
    "We observe:\n",
    "   - High cardinality (too many unique values) in categorical variables, e.g. job title or location\n",
    "   - Simple label encoding might not capture relationships\n",
    "   - Missing interaction effects between features\n",
    "   - Overall basic feature preprocessing\n",
    "\n",
    "\n",
    "**Some Potential Solutions**\n",
    "- Group similar job titles\n",
    "- Implement target encoding for categorical variables (crucial for high-cardinality features like job_title)\n",
    "- Create experience-title interaction features (captures career progression patterns)\n",
    "- Develop remote work impact factors (especially relevant in today's job market)\n",
    "- Include company size-location interactions (captures market dynamics)"
   ]
  },
  {
   "cell_type": "code",
   "execution_count": null,
   "metadata": {},
   "outputs": [],
   "source": [
    "def improved_preprocessing(df):\n",
    "    data = df.copy()\n",
    "    \n",
    "    # Create salary buckets to handle high-salary cases (outliers) better\n",
    "    data['salary_bucket'] = pd.qcut(data['salary_in_usd'], q=5, labels=['Very Low', 'Low', 'Medium', 'High', 'Very High'])\n",
    "    \n",
    "    # Convert salary to thousands and log transform\n",
    "    data['salary_in_usd'] = data['salary_in_usd'] / 1000\n",
    "    data['log_salary'] = np.log1p(data['salary_in_usd'])\n",
    "    \n",
    "    # Group similar job titles\n",
    "    data['job_category'] = data['job_title'].apply(lambda x: \n",
    "        'Manager' if any(term in x for term in ['Manager', 'Lead', 'Head', 'Director'])\n",
    "        else 'Analyst' if any(term in x for term in ['Analytics', 'Analyst', 'Strategist', 'Consultant', 'Business', 'BI'])\n",
    "        else 'Scientist' if any(term in x for term in ['Scientist', 'Research', 'Researcher', 'Learning'])\n",
    "        else 'Engineer' if any(term in x for term in ['Engineer', 'Developer', 'Programmer', 'Architect'])\n",
    "        else 'Other')\n",
    "    \n",
    "    # Remote Work Impact Factors\n",
    "    df['remote_category'] = pd.cut(\n",
    "        df['remote_ratio'],\n",
    "        bins=[-1, 0, 50, 100],\n",
    "        labels=['on_site', 'hybrid', 'remote']\n",
    "    )\n",
    "    # Calculate average salary by remote category\n",
    "    remote_salary_avg = df.groupby('remote_category')['salary_in_usd'].transform('mean')\n",
    "    df['remote_salary_ratio'] = df['salary_in_usd'] / remote_salary_avg\n",
    "    # Create remote-experience interaction\n",
    "    df['remote_experience_interaction'] = df['remote_ratio'] * df['experience_numeric']\n",
    "\n",
    "    # Company Size-Location Interactions\n",
    "    size_mapping = {\n",
    "        'S': 1,  # Small\n",
    "        'M': 2,  # Medium\n",
    "        'L': 3   # Large\n",
    "    }\n",
    "    df['size_numeric'] = df['company_size'].map(size_mapping)    \n",
    "    # Calculate location-specific size impact\n",
    "    size_location_avg = df.groupby(['company_location', 'company_size'])['salary_in_usd'].transform('mean')\n",
    "    df['size_location_salary_ratio'] = df['salary_in_usd'] / size_location_avg\n",
    "    # Create size-remote interaction\n",
    "    df['size_remote_interaction'] = df['size_numeric'] * df['remote_ratio']\n",
    "    \n",
    "    # Experience-Title Interaction Features\n",
    "    exp_mapping = {\n",
    "        'EN': 1,  # Entry level\n",
    "        'MI': 2,  # Mid level\n",
    "        'SE': 3,  # Senior\n",
    "        'EX': 4   # Executive\n",
    "    }\n",
    "    df['experience_numeric'] = df['experience_level'].map(exp_mapping)    \n",
    "    for i in range(5):  # Number of embedding dimensions\n",
    "        df[f'exp_title_interaction_{i}'] = (\n",
    "            df['experience_numeric'] * df[f'job_title_embedding_{i}']\n",
    "        )\n",
    "    \n",
    "    # Target encoding\n",
    "    te = TargetEncoder()\n",
    "    categorical_cols = ['experience_level', 'employment_type', 'job_title', 'job_category', \n",
    "                       'employee_residence', 'company_location', 'company_size',\n",
    "                       'experience_remote', 'salary_bucket', 'remote_category']\n",
    "\n",
    "    for col in categorical_cols:\n",
    "        data[col + '_encoded'] = te.fit_transform(data[col])\n",
    "    \n",
    "    return data"
   ]
  },
  {
   "cell_type": "markdown",
   "metadata": {},
   "source": [
    "## Improving Model Performance"
   ]
  },
  {
   "cell_type": "markdown",
   "metadata": {},
   "source": [
    "Other than the above issues, we also observe weaknesses in the initial baseline model, which we will discuss below together with potential solutions."
   ]
  },
  {
   "cell_type": "markdown",
   "metadata": {},
   "source": [
    "#### Model Limitations\n",
    "   - Linear scaling not suitable for salary ranges\n",
    "   - Single model approach for all salary ranges\n",
    "   - Basic validation strategy\n",
    "   - Limited hyperparameter optimization\n",
    "   - Loss function equally weights all errors, leading to bias towards the mean\n",
    "\n",
    "**Model & Training Possible Improvements**\n",
    "   - Use quantile regression for better uncertainty estimation\n",
    "   - Use k-fold cross-validation\n",
    "   - Implement hyperparameter tuning\n",
    "   - Add regularization techniques, e.g. L1 (Lasso), L2 (Ridge), early stopping, feature dropout, gradient clipping\n",
    "   - Use weighted sampling for underrepresented cases"
   ]
  },
  {
   "cell_type": "markdown",
   "metadata": {},
   "source": [
    "#### Enhanced Data Preprocessing"
   ]
  },
  {
   "cell_type": "code",
   "execution_count": null,
   "metadata": {},
   "outputs": [],
   "source": [
    "# Apply improved preprocessing\n",
    "enhanced_processed_data = improved_preprocessing(df)\n",
    "\n",
    "# Define features for modeling\n",
    "feature_cols = [col for col in enhanced_processed_data.columns \n",
    "               if col.endswith('_encoded') or \n",
    "               col.endswith('_interaction') or\n",
    "               col in ['work_year', 'remote_salary_ratio', 'size_location_salary_ratio']]\n",
    "\n",
    "X = enhanced_processed_data[feature_cols]\n",
    "y = enhanced_processed_data['log_salary']"
   ]
  },
  {
   "cell_type": "markdown",
   "metadata": {},
   "source": [
    "#### Weighted Sampling for Underrepresented Cases"
   ]
  },
  {
   "cell_type": "code",
   "execution_count": null,
   "metadata": {},
   "outputs": [],
   "source": [
    "def calculate_sample_weights(df):\n",
    "    # Calculate weights based on salary buckets\n",
    "    salary_counts = df['salary_bucket'].value_counts()\n",
    "    weights = 1 / salary_counts[df['salary_bucket']]\n",
    "    return weights / weights.sum() * len(weights)\n",
    "\n",
    "sample_weights = calculate_sample_weights(processed_data)\n",
    "\n",
    "# Split data with stratification\n",
    "X_train, X_test, y_train, y_test, weights_train, weights_test = train_test_split(\n",
    "    X, y, sample_weights, test_size=0.2, random_state=42,\n",
    "    stratify=processed_data['salary_bucket'])\n",
    "\n",
    "# Use RobustScaler instead of StandardScaler to handle outliers better\n",
    "scaler = RobustScaler()\n",
    "X_train_scaled = scaler.fit_transform(X_train)\n",
    "X_test_scaled = scaler.transform(X_test)"
   ]
  },
  {
   "cell_type": "markdown",
   "metadata": {},
   "source": [
    "#### Hyperparameter Tuning with Cross-Validation"
   ]
  },
  {
   "cell_type": "code",
   "execution_count": null,
   "metadata": {},
   "outputs": [],
   "source": [
    "# Define parameter grid for RandomizedSearchCV\n",
    "param_grid = {\n",
    "    'max_depth': [3, 4, 5, 6, 7, 8],\n",
    "    'learning_rate': [0.01, 0.05, 0.1, 0.2],\n",
    "    'n_estimators': [100, 200, 300, 400, 500],\n",
    "    'min_child_weight': [1, 3, 5, 7],\n",
    "    'gamma': [0, 0.1, 0.2, 0.3, 0.4],\n",
    "    'subsample': [0.6, 0.7, 0.8, 0.9, 1.0],\n",
    "    'colsample_bytree': [0.6, 0.7, 0.8, 0.9, 1.0],\n",
    "    'reg_alpha': [0, 0.1, 0.5, 1.0],\n",
    "    'reg_lambda': [0.1, 0.5, 1.0, 1.5, 2.0]\n",
    "}\n",
    "\n",
    "# Initialize base model with quantile regression objective\n",
    "base_model = xgb.XGBRegressor(\n",
    "    objective='reg:quantileerror',\n",
    "    # L1 regularization (analogous to Lasso)\n",
    "    alpha=0,\n",
    "    # L2 regularization (analogous to Ridge)\n",
    "    lambda_=1.0,\n",
    "    # Prevent overfitting on individual trees\n",
    "    max_depth=6,\n",
    "    min_child_weight=5,\n",
    "    gamma=0.1,\n",
    "    # Subsample rows and columns for regularization\n",
    "    subsample=0.8,\n",
    "    colsample_bytree=0.8,\n",
    "    # Enable early stopping\n",
    "    early_stopping_rounds=10,\n",
    "    # Gradient clipping\n",
    "    max_delta_step=1,\n",
    "    # Slower learning rate for better generalization\n",
    "    learning_rate=0.01,\n",
    "    n_estimators=1000,\n",
    "    random_state=42\n",
    ")\n",
    "\n",
    "# Set up K-Fold cross-validation\n",
    "kf = KFold(n_splits=5, shuffle=True, random_state=42)\n",
    "\n",
    "# Perform RandomizedSearchCV with cross-validation\n",
    "random_search = RandomizedSearchCV(\n",
    "    estimator=base_model,\n",
    "    param_distributions=param_grid,\n",
    "    n_iter=100,\n",
    "    scoring='neg_mean_squared_error',\n",
    "    cv=kf,\n",
    "    random_state=42,\n",
    "    n_jobs=-1\n",
    ")\n",
    "\n",
    "# Fit the random search\n",
    "random_search.fit(\n",
    "    X_train_scaled, \n",
    "    y_train\n",
    ")\n",
    "\n",
    "print(\"Best parameters found:\")\n",
    "for param, value in random_search.best_params_.items():\n",
    "    print(f\"{param}: {value}\")"
   ]
  },
  {
   "cell_type": "markdown",
   "metadata": {},
   "source": [
    "#### Training Final Model with Quantile Regression"
   ]
  },
  {
   "cell_type": "code",
   "execution_count": null,
   "metadata": {},
   "outputs": [],
   "source": [
    "# Train models for different quantiles\n",
    "quantiles = [0.1, 0.5, 0.9]\n",
    "quantile_models = {}\n",
    "\n",
    "for q in quantiles:\n",
    "    model = xgb.XGBRegressor(\n",
    "        objective='reg:quantileerror',\n",
    "        quantile_alpha=q,\n",
    "        **random_search.best_params_,\n",
    "        # L1 regularization (analogous to Lasso)\n",
    "        alpha=0.5,\n",
    "        # L2 regularization (analogous to Ridge)\n",
    "        lambda_=1.0,\n",
    "        # Prevent overfitting on individual trees\n",
    "        max_depth=6,\n",
    "        min_child_weight=5,\n",
    "        gamma=0.1,\n",
    "        # Subsample rows and columns for regularization\n",
    "        subsample=0.8,\n",
    "        colsample_bytree=0.8,\n",
    "        # Enable early stopping\n",
    "        early_stopping_rounds=10,\n",
    "        # Gradient clipping\n",
    "        max_delta_step=1,\n",
    "        # Slower learning rate for better generalization\n",
    "        learning_rate=0.01,\n",
    "        n_estimators=1000,\n",
    "        random_state=42\n",
    "    )\n",
    "    \n",
    "    model.fit(\n",
    "        X_train_scaled, \n",
    "        y_train\n",
    "    )\n",
    "    \n",
    "    quantile_models[q] = model\n",
    "\n",
    "# Make predictions for each quantile\n",
    "predictions = {}\n",
    "for q, model in quantile_models.items():\n",
    "    predictions[q] = model.predict(X_test_scaled)"
   ]
  }
 ],
 "metadata": {
  "kernelspec": {
   "display_name": "Python 3",
   "language": "python",
   "name": "python3"
  },
  "language_info": {
   "codemirror_mode": {
    "name": "ipython",
    "version": 3
   },
   "file_extension": ".py",
   "mimetype": "text/x-python",
   "name": "python",
   "nbconvert_exporter": "python",
   "pygments_lexer": "ipython3",
   "version": "3.13.1"
  }
 },
 "nbformat": 4,
 "nbformat_minor": 4
}
