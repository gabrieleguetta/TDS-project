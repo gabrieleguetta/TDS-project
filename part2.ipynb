{
 "cells": [
  {
   "cell_type": "markdown",
   "metadata": {},
   "source": [
    "# Data Science Salaries - Part 2: Error Analysis and Improvements"
   ]
  },
  {
   "cell_type": "markdown",
   "metadata": {},
   "source": [
    "## 1. Error Analysis Conclusions & Work Plan\n",
    "\n",
    "Based on the error analysis from Part 1, we identified several key issues:\n",
    "\n",
    "- **Salary Range Bias**:\n",
    "   - Model significantly underestimates high-salary positions (>250k USD)\n",
    "   - Negative skew in error distribution\n",
    "\n",
    "- **Feature Importance Issues**:\n",
    "   - Employee residence dominates with ~0.40 importance score\n",
    "   - Work year and remote ratio show very low importance (<0.05)\n",
    "   - Potential sparsity issues with job titles\n",
    "\n",
    "- **Experience Level Patterns**:\n",
    "   - Largest error variance in Executive (EX) level\n",
    "   - Significant outliers in Senior (SE) level"
   ]
  },
  {
   "cell_type": "markdown",
   "metadata": {},
   "source": [
    "Loading the model & data from Part 1"
   ]
  },
  {
   "cell_type": "code",
   "execution_count": null,
   "metadata": {},
   "outputs": [],
   "source": [
    "# Import required libraries\n",
    "import pandas as pd\n",
    "import numpy as np\n",
    "import matplotlib.pyplot as plt\n",
    "import seaborn as sns\n",
    "from sklearn.preprocessing import StandardScaler, QuantileTransformer\n",
    "from sklearn.model_selection import train_test_split\n",
    "import xgboost as xgb\n",
    "\n",
    "# Load the original data and model\n",
    "path = \"data\\\\ds_salaries.csv\"\n",
    "df = pd.read_csv(path)\n",
    "\n",
    "# Import the prepare_data function from part1\n",
    "from part1 import prepare_data, build_model\n",
    "processed_data = prepare_data(df)\n",
    "model, X_test, y_test, y_pred, X_train, feature_cols = build_model(processed_data)"
   ]
  },
  {
   "cell_type": "markdown",
   "metadata": {},
   "source": [
    "### Root Cause Analysis\n",
    "\n",
    "Let's analyze potential causes for the observed issues:"
   ]
  },
  {
   "cell_type": "code",
   "execution_count": null,
   "metadata": {},
   "outputs": [],
   "source": [
    "# Analyze salary distribution\n",
    "plt.figure(figsize=(10, 6))\n",
    "sns.histplot(data=processed_data, x='salary_in_usd', bins=50)\n",
    "plt.title('Salary Distribution')\n",
    "plt.xlabel('Salary (thousands USD)')\n",
    "plt.ylabel('Count')\n",
    "plt.show()\n",
    "\n",
    "# Print summary statistics\n",
    "print(\"Salary Distribution Statistics:\")\n",
    "print(processed_data['salary_in_usd'].describe())\n",
    "\n",
    "# Calculate skewness\n",
    "print(f\"\\nSkewness: {processed_data['salary_in_usd'].skew():.2f}\")"
   ]
  },
  {
   "cell_type": "markdown",
   "metadata": {},
   "source": [
    "1. **Data Distribution Issues**:\n",
    "   - Right-skewed salary distribution\n",
    "   - Underrepresentation of high-salary positions\n",
    "   - Possible outliers affecting model training"
   ]
  },
  {
   "cell_type": "code",
   "execution_count": 1,
   "metadata": {},
   "outputs": [
    {
     "name": "stdout",
     "output_type": "stream",
     "text": [
      "Feature Cardinality Analysis:\n"
     ]
    },
    {
     "ename": "NameError",
     "evalue": "name 'processed_data' is not defined",
     "output_type": "error",
     "traceback": [
      "\u001b[1;31m---------------------------------------------------------------------------\u001b[0m",
      "\u001b[1;31mNameError\u001b[0m                                 Traceback (most recent call last)",
      "Cell \u001b[1;32mIn[1], line 6\u001b[0m\n\u001b[0;32m      4\u001b[0m \u001b[38;5;28mprint\u001b[39m(\u001b[38;5;124m\"\u001b[39m\u001b[38;5;124mFeature Cardinality Analysis:\u001b[39m\u001b[38;5;124m\"\u001b[39m)\n\u001b[0;32m      5\u001b[0m \u001b[38;5;28;01mfor\u001b[39;00m col \u001b[38;5;129;01min\u001b[39;00m categorical_cols:\n\u001b[1;32m----> 6\u001b[0m     unique_count \u001b[38;5;241m=\u001b[39m \u001b[43mprocessed_data\u001b[49m[col]\u001b[38;5;241m.\u001b[39mnunique()\n\u001b[0;32m      7\u001b[0m     top_5_freq \u001b[38;5;241m=\u001b[39m processed_data[col]\u001b[38;5;241m.\u001b[39mvalue_counts()\u001b[38;5;241m.\u001b[39mhead()\n\u001b[0;32m      8\u001b[0m     \u001b[38;5;28mprint\u001b[39m(\u001b[38;5;124mf\u001b[39m\u001b[38;5;124m\"\u001b[39m\u001b[38;5;130;01m\\n\u001b[39;00m\u001b[38;5;132;01m{\u001b[39;00mcol\u001b[38;5;132;01m}\u001b[39;00m\u001b[38;5;124m:\u001b[39m\u001b[38;5;124m\"\u001b[39m)\n",
      "\u001b[1;31mNameError\u001b[0m: name 'processed_data' is not defined"
     ]
    }
   ],
   "source": [
    "# Analyze feature cardinality\n",
    "categorical_cols = ['job_title', 'employee_residence', 'company_location']\n",
    "\n",
    "print(\"Feature Cardinality Analysis:\")\n",
    "for col in categorical_cols:\n",
    "    unique_count = processed_data[col].nunique()\n",
    "    top_5_freq = processed_data[col].value_counts().head()\n",
    "    print(f\"\\n{col}:\")\n",
    "    print(f\"Unique values: {unique_count}\")\n",
    "    print(\"Top 5 most frequent values:\")\n",
    "    print(top_5_freq)"
   ]
  },
  {
   "cell_type": "markdown",
   "metadata": {},
   "source": [
    "\n",
    "2. **Feature Engineering Problems**:\n",
    "   - High cardinality in categorical variables (e.g. job title and location)\n",
    "   - Simple label encoding might not capture relationships\n",
    "   - Missing interaction effects between features\n",
    "   \n",
    "\n",
    "3. **Model Limitations**:\n",
    "   - Linear scaling might not handle salary ranges well\n",
    "   - No special handling of outliers\n",
    "   - Basic feature preprocessing\n",
    "   - Limited hyperparameter optimization\n",
    "   - Single model approach for all salary ranges"
   ]
  },
  {
   "cell_type": "markdown",
   "metadata": {},
   "source": [
    "### Potential Solutions to Some of the Issues\n",
    "\n",
    "**Handling Salary Distribution**\n",
    "- Apply quantile transformation to normalize salary distribution\n",
    "- Use stratified sampling to ensure representation across salary ranges\n",
    "- Implement separate models for different salary brackets\n",
    "- Consider log transformation for salary values\n",
    "\n",
    "**Feature Engineering Solutions**\n",
    "- Implement target encoding for categorical variables\n",
    "- Use embedding techniques for high-cardinality categorical features\n",
    "- Create experience-title interaction features\n",
    "- Add location-based interaction terms\n",
    "- Develop remote work impact factors\n",
    "- Include company size-location interactions\n",
    "\n",
    "**Model Architecture & Training Improvements**\n",
    "- Use quantile regression for better uncertainty estimation\n",
    "- Use k-fold cross-validation\n",
    "- Implement hyperparameter tuning\n",
    "- Add regularization techniques\n",
    "- Use weighted sampling for underrepresented cases"
   ]
  }
 ],
 "metadata": {
  "kernelspec": {
   "display_name": "Python 3",
   "language": "python",
   "name": "python3"
  },
  "language_info": {
   "codemirror_mode": {
    "name": "ipython",
    "version": 3
   },
   "file_extension": ".py",
   "mimetype": "text/x-python",
   "name": "python",
   "nbconvert_exporter": "python",
   "pygments_lexer": "ipython3",
   "version": "3.13.1"
  }
 },
 "nbformat": 4,
 "nbformat_minor": 4
}
